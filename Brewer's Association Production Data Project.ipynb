{
 "cells": [
  {
   "cell_type": "code",
   "execution_count": 42,
   "id": "70f130fb",
   "metadata": {},
   "outputs": [
    {
     "name": "stdout",
     "output_type": "stream",
     "text": [
      "<built-in function dir>\n"
     ]
    }
   ],
   "source": [
    "## Initialize packages\n",
    "import pandas as pd\n",
    "import matplotlib.pyplot as plt\n",
    "import seaborn as sns\n",
    "\n"
   ]
  },
  {
   "cell_type": "code",
   "execution_count": 83,
   "id": "d8cec551",
   "metadata": {
    "scrolled": true
   },
   "outputs": [
    {
     "name": "stdout",
     "output_type": "stream",
     "text": [
      "                                               Company Footnotes State  2013  \\\n",
      "0                               Parish Brewing Company       NaN    LA  5077   \n",
      "1                        Belching Beaver Brewery Vista         1    CA   615   \n",
      "2                                Castle Danger Brewery       NaN    MN   320   \n",
      "3                         Hardywood Park Craft Brewery       NaN    VA  4328   \n",
      "4                                         Huss Brewing         2    AZ   200   \n",
      "..                                                 ...       ...   ...   ...   \n",
      "177  Octopi Brewing / Untitled Art (does not includ...         2    WI   NaN   \n",
      "178  Brew Hub, LLC (does not include proprietary pr...         2    FL   NaN   \n",
      "179                              Blues City Brewing Co       NaN   NaN   NaN   \n",
      "180                     Western Pensylvania Brewing Co       NaN   NaN   NaN   \n",
      "181                                    City Brewing Co       NaN   NaN   NaN   \n",
      "\n",
      "     2014   2015     2016            2017      20.14     20.15     20.16  \\\n",
      "0    6305   8067    10848         14987.0   0.241875  0.279461  0.344738   \n",
      "1    7500  13000    11300         14950.0  11.195122  0.733333 -0.130769   \n",
      "2    1125   4300     9200         14900.0   2.515625  2.822222  1.139535   \n",
      "3    8033  12840    12841         14692.0   0.856054  0.598407  0.000078   \n",
      "4     DNP    DNP  9099.97        14608.35        NaN       NaN       NaN   \n",
      "..    ...    ...      ...             ...        ...       ...       ...   \n",
      "177   NaN    NaN     2180            3050        NaN       NaN       NaN   \n",
      "178   NaN   1000  5132.26         2810.36        NaN       NaN  4.132260   \n",
      "179   NaN    NaN      NaN  No Proprietary        NaN       NaN       NaN   \n",
      "180   NaN    NaN      NaN  No Proprietary        NaN       NaN       NaN   \n",
      "181   NaN    NaN      NaN  No Proprietary        NaN       NaN       NaN   \n",
      "\n",
      "        20.17  \n",
      "0    0.381545  \n",
      "1    0.323009  \n",
      "2    0.619565  \n",
      "3    0.144148  \n",
      "4    0.605318  \n",
      "..        ...  \n",
      "177  0.399083  \n",
      "178 -0.452413  \n",
      "179       NaN  \n",
      "180       NaN  \n",
      "181       NaN  \n",
      "\n",
      "[5649 rows x 12 columns]\n"
     ]
    }
   ],
   "source": [
    "## Data Initialization\n",
    "\n",
    "## 2017 sheets read in seperately and then combined, have not figured out how to add a new column with each rows original sheet index\n",
    "ba_2017_m = pd.read_excel(r\"C:\\Users\\Owner\\Documents\\Personal\\Data\\Datasets\\BA_2017.xlsx\", sheet_name = 0)\n",
    "ba_2017_b = pd.read_excel(r\"C:\\Users\\Owner\\Documents\\Personal\\Data\\Datasets\\BA_2017.xlsx\", sheet_name = 1)\n",
    "ba_2017_r = pd.read_excel(r\"C:\\Users\\Owner\\Documents\\Personal\\Data\\Datasets\\BA_2017.xlsx\", sheet_name = 2)\n",
    "ba_2017 = pd.concat([ba_2017_m, ba_2017_b, ba_2017_r])\n",
    "\n",
    "\n",
    "ba_2018 = pd.read_excel(r\"C:\\Users\\Owner\\Documents\\Personal\\Data\\Datasets\\BA_2018.xlsx\")\n",
    "ba_2019 = pd.read_excel(r\"C:\\Users\\Owner\\Documents\\Personal\\Data\\Datasets\\BA_2019.xlsx\")\n",
    "ba_2020 = pd.read_excel(r\"C:\\Users\\Owner\\Documents\\Personal\\Data\\Datasets\\BA_2020.xlsx\")\n",
    "ba_2021 = pd.read_excel(r\"C:\\Users\\Owner\\Documents\\Personal\\Data\\Datasets\\BA_2021.xlsx\")\n",
    "\n",
    "\n",
    "## extracted data for years without their own table (2013-2016)\n",
    "##ba_2016 = ba_2017[ba_2017[]]\n"
   ]
  },
  {
   "cell_type": "code",
   "execution_count": null,
   "id": "1afa16b3",
   "metadata": {},
   "outputs": [],
   "source": []
  }
 ],
 "metadata": {
  "kernelspec": {
   "display_name": "Python 3 (ipykernel)",
   "language": "python",
   "name": "python3"
  },
  "language_info": {
   "codemirror_mode": {
    "name": "ipython",
    "version": 3
   },
   "file_extension": ".py",
   "mimetype": "text/x-python",
   "name": "python",
   "nbconvert_exporter": "python",
   "pygments_lexer": "ipython3",
   "version": "3.9.12"
  }
 },
 "nbformat": 4,
 "nbformat_minor": 5
}
